{
  "nbformat": 4,
  "nbformat_minor": 0,
  "metadata": {
    "colab": {
      "provenance": [],
      "authorship_tag": "ABX9TyM6dIF42bzgOiy5TTuNr/B1",
      "include_colab_link": true
    },
    "kernelspec": {
      "name": "python3",
      "display_name": "Python 3"
    },
    "language_info": {
      "name": "python"
    }
  },
  "cells": [
    {
      "cell_type": "markdown",
      "metadata": {
        "id": "view-in-github",
        "colab_type": "text"
      },
      "source": [
        "<a href=\"https://colab.research.google.com/github/Marcelo-75/python-ciencia-datos/blob/main/Ejercicios_propuestos_por_chatGPT.ipynb\" target=\"_parent\"><img src=\"https://colab.research.google.com/assets/colab-badge.svg\" alt=\"Open In Colab\"/></a>"
      ]
    },
    {
      "cell_type": "code",
      "execution_count": 3,
      "metadata": {
        "colab": {
          "base_uri": "https://localhost:8080/"
        },
        "id": "renefScXCSvQ",
        "outputId": "50811205-a687-4132-add2-5908eceddb3c"
      },
      "outputs": [
        {
          "output_type": "stream",
          "name": "stdout",
          "text": [
            "SUMA DE DOS NUMEROS INGRESADOS POR EL USUARIO\n",
            "Ingrese el primer numero: 5\n",
            "Ingrese el segundo numero: 3\n",
            "La suma de los numeros 5 y 3 es: 8\n"
          ]
        }
      ],
      "source": [
        "#*************************************************************************************#\n",
        "# Ejercicio 1:                                                                        #\n",
        "# Escribe un programa que solicite al usuario dos números y muestre la suma de ambos. #\n",
        "#*************************************************************************************#\n",
        "print(\"SUMA DE DOS NUMEROS INGRESADOS POR EL USUARIO\")\n",
        "num_1 = int(input(\"Ingrese el primer numero: \"))\n",
        "num_2 = int(input(\"Ingrese el segundo numero: \"))\n",
        "print(\"La suma de los numeros\", num_1, \"y\", num_2, \"es:\", num_1+num_2)"
      ]
    },
    {
      "cell_type": "code",
      "source": [],
      "metadata": {
        "id": "BxwwdPDfFMgu"
      },
      "execution_count": null,
      "outputs": []
    },
    {
      "cell_type": "code",
      "execution_count": 6,
      "metadata": {
        "colab": {
          "base_uri": "https://localhost:8080/"
        },
        "outputId": "fb62b597-4cef-4811-87de-d8b06e0b0e80",
        "id": "Txbj8bHIFQYu"
      },
      "outputs": [
        {
          "output_type": "stream",
          "name": "stdout",
          "text": [
            "INDICAR SI EL NUMERO INGRESADO POR USUARIO ES PAR O IMPAR\n",
            "Ingrese el primer numero: 347847\n",
            "El numero 347847 es numero impar\n"
          ]
        }
      ],
      "source": [
        "#*************************************************************************************#\n",
        "# Ejercicio 2:                                                                        #\n",
        "# Escribe un programa que solicite al usuario un número y muestre si es par o impar.  #\n",
        "#*************************************************************************************#\n",
        "print(\"INDICAR SI EL NUMERO INGRESADO POR USUARIO ES PAR O IMPAR\")\n",
        "num = int(input(\"Ingrese el primer numero: \"))\n",
        "if (num % 2 == 0):\n",
        "  print(\"El numero\", num, \"es numero par\")\n",
        "else:\n",
        "  print(\"El numero\", num, \"es numero impar\")\n"
      ]
    },
    {
      "cell_type": "code",
      "source": [
        "#*************************************************************************************#\n",
        "# Ejercicio 3:                                                                        #\n",
        "# Escribe un programa que solicite al usuario una palabra y la imprima al revés.      #\n",
        "#*************************************************************************************#\n",
        "print(\"PALABRA INGRESADA POR USUARIO IMPRESA AL REVES\")\n",
        "palabraDerecho = input(\"Ingrese una palabra\")\n",
        "palabraReves = \"\"\n",
        "for i in range(0,len(palabraDerecho)):\n",
        "  palabraReves += palabraDerecho[(len(palabraDerecho)-1)-i]\n",
        "\n",
        "print(palabraReves)\n",
        "\n",
        "'''\n",
        "Solucion propuesta del ejercicio 3 por chatGPT al corregir mis ejercicios\n",
        "usando propiedades de cadenas o strings\n",
        "variable[inicio:fin:paso]\n",
        "'''\n",
        "palabraReves = palabraDerecho[::-1]\n",
        "print(palabraReves)\n"
      ],
      "metadata": {
        "colab": {
          "base_uri": "https://localhost:8080/"
        },
        "id": "iJrABV2iGxCR",
        "outputId": "5fb35dd6-35c7-4f9e-b1c0-89ccf90f75f0"
      },
      "execution_count": 1,
      "outputs": [
        {
          "output_type": "stream",
          "name": "stdout",
          "text": [
            "PALABRA INGRESADA POR USUARIO IMPRESA AL REVES\n",
            "Ingrese una palabraMARCELO\n",
            "OLECRAM\n",
            "OLECRAM\n"
          ]
        }
      ]
    },
    {
      "cell_type": "markdown",
      "source": [
        "Solucion propuesta del ejercicio 3 por chatGPT al corregir mis ejercicios\n",
        "usando propiedades de cadenas o strings\n",
        "variable[inicio:fin:paso]\n",
        "![Captura.PNG](data:image/png;base64,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)"
      ],
      "metadata": {
        "id": "BPZeFNR8c68n"
      }
    },
    {
      "cell_type": "code",
      "source": [
        "#*************************************************************************************#\n",
        "# Ejercicio 4:                                                                        #\n",
        "# Escribe un programa que genere una lista con los números pares del 1 al 20 y la     #\n",
        "# muestre en pantalla.                                                                #\n",
        "#*************************************************************************************#\n",
        "print(\"LISTA DE NUMEROS PARES DEL 1 AL 20\")\n",
        "numerosPares = []\n",
        "for i in range(1,20):\n",
        "  if(i % 2 == 0):\n",
        "    numerosPares.append(i)\n",
        "\n",
        "print(numerosPares)\n"
      ],
      "metadata": {
        "colab": {
          "base_uri": "https://localhost:8080/"
        },
        "id": "SuhPquo1TapI",
        "outputId": "853c0b04-d758-4ce2-8c4b-1e727c34c55c"
      },
      "execution_count": 32,
      "outputs": [
        {
          "output_type": "stream",
          "name": "stdout",
          "text": [
            "LISTA DE NUMEROS PARES DEL 1 AL 20\n",
            "[2, 4, 6, 8, 10, 12, 14, 16, 18]\n"
          ]
        }
      ]
    },
    {
      "cell_type": "code",
      "source": [
        "#**************************************************************************************#\n",
        "# Ejercicio 5:                                                                         #\n",
        "# Escribe un programa que solicite al usuario una lista de números separados por comas #\n",
        "# y muestre la suma de todos los números en la lista.                                  #\n",
        "#**************************************************************************************#\n",
        "print(\"LISTA DE n NUMEROS INGRESADOS POR USUARIO Y MUESTRA LA SUMA DE LOS MISMOS\")\n",
        "listaNumeros = []\n",
        "listaNumeros = input(\"Ingrese una lista de numeros separados por comas:\")\n",
        "numeros = listaNumeros.split(\",\")\n",
        "suma = 0\n",
        "for i in range(0,len(numeros)):\n",
        "  suma += int(numeros[i])\n",
        "\n",
        "print(suma)"
      ],
      "metadata": {
        "colab": {
          "base_uri": "https://localhost:8080/"
        },
        "id": "JcSDaWECXNid",
        "outputId": "89ef3c87-77b9-411e-f129-700931fb32c3"
      },
      "execution_count": 42,
      "outputs": [
        {
          "output_type": "stream",
          "name": "stdout",
          "text": [
            "LISTA DE n NUMEROS INGRESADOS POR USUARIO Y MUESTRA LA SUMA DE LOS MISMOS\n",
            "Ingrese una lista de numeros separados por comas:3,4,3,2\n",
            "12\n"
          ]
        }
      ]
    }
  ]
}